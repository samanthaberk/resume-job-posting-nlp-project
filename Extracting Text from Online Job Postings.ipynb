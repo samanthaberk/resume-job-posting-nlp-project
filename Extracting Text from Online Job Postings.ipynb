{
 "cells": [
  {
   "cell_type": "markdown",
   "metadata": {},
   "source": [
    "### Step 1: Load Raw HTML Pages\n",
    "*Load all webpages from your file system into Python as text in a list format*"
   ]
  },
  {
   "cell_type": "code",
   "execution_count": 3,
   "metadata": {},
   "outputs": [],
   "source": [
    "# Group library imports in the beginning\n",
    "\n",
    "import glob\n",
    "import os\n",
    "\n",
    "import pandas as pd\n",
    "from bs4 import BeautifulSoup as bs"
   ]
  },
  {
   "cell_type": "code",
   "execution_count": 5,
   "metadata": {},
   "outputs": [
    {
     "name": "stdout",
     "output_type": "stream",
     "text": [
      "/Users/samanthaberk/Documents/resume-job-posting-nlp-project\n",
      "['.DS_Store', 'LICENSE', 'environment.yml', 'Extracting Text from Online Job Postings.ipynb', 'resume_project.pickle', 'README.md', '.gitignore', '.ipynb_checkpoints', '.git', 'data', '1. Extracting Raw Text from Job Posting HTML Web pages.ipynb']\n"
     ]
    }
   ],
   "source": [
    "# Find current working directory and its sub-directories\n",
    "\n",
    "cwd = os.getcwd()\n",
    "dirs = os.listdir()\n",
    "\n",
    "print(cwd)\n",
    "print(dirs)"
   ]
  },
  {
   "cell_type": "code",
   "execution_count": 6,
   "metadata": {},
   "outputs": [
    {
     "name": "stdout",
     "output_type": "stream",
     "text": [
      "/Users/samanthaberk/Documents/resume-job-posting-nlp-project/data\n",
      "/Users/samanthaberk/Documents/resume-job-posting-nlp-project/data/html_job_postings\n"
     ]
    }
   ],
   "source": [
    "# Build a path to the HTML job postings directory\n",
    "\n",
    "path = os.path.join(cwd, dirs[dirs.index('data')])\n",
    "print(path)\n",
    "\n",
    "files = os.listdir(path)\n",
    "path = os.path.join(path, files[files.index('html_job_postings')])\n",
    "print(path)"
   ]
  },
  {
   "cell_type": "code",
   "execution_count": 9,
   "metadata": {},
   "outputs": [
    {
     "data": {
      "text/plain": [
       "1337"
      ]
     },
     "execution_count": 9,
     "metadata": {},
     "output_type": "execute_result"
    }
   ],
   "source": [
    "# get a list of the files in the HTML directoy\n",
    "\n",
    "files = glob.glob(path + '//*.html')\n",
    "len(files)"
   ]
  },
  {
   "cell_type": "code",
   "execution_count": 22,
   "metadata": {},
   "outputs": [],
   "source": [
    "# Load the HTML pages into a list\n",
    "\n",
    "html_content = []\n",
    "for file in files:\n",
    "    with open (file, 'r') as f:\n",
    "        html_content.append(f.read())"
   ]
  },
  {
   "cell_type": "markdown",
   "metadata": {},
   "source": [
    "### Step 2: Extract and store data\n",
    "*Parse the HTML into sections and store them a dictionary with lists as values, then convert this to a DataFrame*"
   ]
  },
  {
   "cell_type": "code",
   "execution_count": 23,
   "metadata": {},
   "outputs": [
    {
     "name": "stdout",
     "output_type": "stream",
     "text": [
      "{'title': [], 'body': [], 'bullets': []}\n"
     ]
    }
   ],
   "source": [
    "# Create a dictionary to store the parsed data\n",
    "\n",
    "sections = []\n",
    "html_dict = {}\n",
    "for key in ['title', 'body', 'bullets']:\n",
    "    html_dict[key] = []\n",
    "    \n",
    "print(html_dict)\n"
   ]
  },
  {
   "cell_type": "code",
   "execution_count": 20,
   "metadata": {},
   "outputs": [
    {
     "data": {
      "text/html": [
       "<div>\n",
       "<style scoped>\n",
       "    .dataframe tbody tr th:only-of-type {\n",
       "        vertical-align: middle;\n",
       "    }\n",
       "\n",
       "    .dataframe tbody tr th {\n",
       "        vertical-align: top;\n",
       "    }\n",
       "\n",
       "    .dataframe thead th {\n",
       "        text-align: right;\n",
       "    }\n",
       "</style>\n",
       "<table border=\"1\" class=\"dataframe\">\n",
       "  <thead>\n",
       "    <tr style=\"text-align: right;\">\n",
       "      <th></th>\n",
       "      <th>title</th>\n",
       "      <th>body</th>\n",
       "      <th>bullets</th>\n",
       "    </tr>\n",
       "  </thead>\n",
       "  <tbody>\n",
       "    <tr>\n",
       "      <td>0</td>\n",
       "      <td>Quantitative Analyst - Boston, MA 02116</td>\n",
       "      <td>Quantitative Analyst - Boston, MA 02116\\nQuant...</td>\n",
       "      <td>[]</td>\n",
       "    </tr>\n",
       "    <tr>\n",
       "      <td>1</td>\n",
       "      <td>Quantitative Analyst - Boston, MA 02116</td>\n",
       "      <td>Quantitative Analyst - Boston, MA 02116\\nQuant...</td>\n",
       "      <td>[]</td>\n",
       "    </tr>\n",
       "  </tbody>\n",
       "</table>\n",
       "</div>"
      ],
      "text/plain": [
       "                                     title  \\\n",
       "0  Quantitative Analyst - Boston, MA 02116   \n",
       "1  Quantitative Analyst - Boston, MA 02116   \n",
       "\n",
       "                                                body bullets  \n",
       "0  Quantitative Analyst - Boston, MA 02116\\nQuant...      []  \n",
       "1  Quantitative Analyst - Boston, MA 02116\\nQuant...      []  "
      ]
     },
     "execution_count": 20,
     "metadata": {},
     "output_type": "execute_result"
    }
   ],
   "source": [
    "# prototype with the first page\n",
    "first_page = html_content[0]\n",
    "\n",
    "soup = bs(first_page, 'lxml')\n",
    "\n",
    "title = soup.find('title').text\n",
    "body = soup.find('body').text\n",
    "bullets = soup.find_all('li')\n",
    "\n",
    "html_dict['title'].append(title)\n",
    "html_dict['body'].append(body)\n",
    "html_dict['bullets'].append([b.text.strip() for b in bullets])\n",
    "\n",
    "df = pd.DataFrame(data=html_dict)\n",
    "df.head()"
   ]
  },
  {
   "cell_type": "code",
   "execution_count": 25,
   "metadata": {},
   "outputs": [],
   "source": [
    "def get_html_contents(html_pages):\n",
    "    \"\"\"\n",
    "    Extracts title, body, and bullets from HTML job postings.\n",
    "    Returns a dataframe with separate columns for title, body and bullets.\n",
    "    \"\"\"\n",
    "    sections = []\n",
    "    html_dict = {}\n",
    "    for key in ['title', 'body', 'bullets']:\n",
    "        html_dict[key] = []\n",
    "    \n",
    "    for html in html_content:\n",
    "        soup = bs(html, 'lxml')\n",
    "        title = soup.find('title').text\n",
    "        body = soup.find('body').text\n",
    "        bullets = soup.find_all('li') \n",
    "        html_dict['title'].append(title)\n",
    "        html_dict['body'].append(body)\n",
    "        html_dict['bullets'].append([b.text.strip() for b in bullets]) \n",
    "        \n",
    "    df = pd.DataFrame(data=html_dict)\n",
    "    \n",
    "    return df"
   ]
  },
  {
   "cell_type": "code",
   "execution_count": 27,
   "metadata": {},
   "outputs": [],
   "source": [
    "df = get_html_contents(html_content)"
   ]
  },
  {
   "cell_type": "code",
   "execution_count": 28,
   "metadata": {},
   "outputs": [
    {
     "data": {
      "text/html": [
       "<div>\n",
       "<style scoped>\n",
       "    .dataframe tbody tr th:only-of-type {\n",
       "        vertical-align: middle;\n",
       "    }\n",
       "\n",
       "    .dataframe tbody tr th {\n",
       "        vertical-align: top;\n",
       "    }\n",
       "\n",
       "    .dataframe thead th {\n",
       "        text-align: right;\n",
       "    }\n",
       "</style>\n",
       "<table border=\"1\" class=\"dataframe\">\n",
       "  <thead>\n",
       "    <tr style=\"text-align: right;\">\n",
       "      <th></th>\n",
       "      <th>title</th>\n",
       "      <th>body</th>\n",
       "      <th>bullets</th>\n",
       "    </tr>\n",
       "  </thead>\n",
       "  <tbody>\n",
       "    <tr>\n",
       "      <td>0</td>\n",
       "      <td>Quantitative Analyst - Boston, MA 02116</td>\n",
       "      <td>Quantitative Analyst - Boston, MA 02116\\nQuant...</td>\n",
       "      <td>[]</td>\n",
       "    </tr>\n",
       "    <tr>\n",
       "      <td>1</td>\n",
       "      <td>Data Scientist - Mountain View, CA</td>\n",
       "      <td>Data Scientist - Mountain View, CA\\nGroundTrut...</td>\n",
       "      <td>[Help senior members of the team to explore, d...</td>\n",
       "    </tr>\n",
       "    <tr>\n",
       "      <td>2</td>\n",
       "      <td>Data Scientist - Seattle, WA</td>\n",
       "      <td>Data Scientist - Seattle, WA\\nA Bachelor or Ma...</td>\n",
       "      <td>[A Bachelor or Masters Degree in a highly quan...</td>\n",
       "    </tr>\n",
       "    <tr>\n",
       "      <td>3</td>\n",
       "      <td>Senior Natural Language Processing (NLP) Engin...</td>\n",
       "      <td>Senior Natural Language Processing (NLP) Engin...</td>\n",
       "      <td>[Join a small team creating a proprietary NLU ...</td>\n",
       "    </tr>\n",
       "    <tr>\n",
       "      <td>4</td>\n",
       "      <td>FLEXO FOLDER GLUER OPER - McClellan, CA - McCl...</td>\n",
       "      <td>FLEXO FOLDER GLUER OPER - McClellan, CA - McCl...</td>\n",
       "      <td>[]</td>\n",
       "    </tr>\n",
       "  </tbody>\n",
       "</table>\n",
       "</div>"
      ],
      "text/plain": [
       "                                               title  \\\n",
       "0            Quantitative Analyst - Boston, MA 02116   \n",
       "1                 Data Scientist - Mountain View, CA   \n",
       "2                       Data Scientist - Seattle, WA   \n",
       "3  Senior Natural Language Processing (NLP) Engin...   \n",
       "4  FLEXO FOLDER GLUER OPER - McClellan, CA - McCl...   \n",
       "\n",
       "                                                body  \\\n",
       "0  Quantitative Analyst - Boston, MA 02116\\nQuant...   \n",
       "1  Data Scientist - Mountain View, CA\\nGroundTrut...   \n",
       "2  Data Scientist - Seattle, WA\\nA Bachelor or Ma...   \n",
       "3  Senior Natural Language Processing (NLP) Engin...   \n",
       "4  FLEXO FOLDER GLUER OPER - McClellan, CA - McCl...   \n",
       "\n",
       "                                             bullets  \n",
       "0                                                 []  \n",
       "1  [Help senior members of the team to explore, d...  \n",
       "2  [A Bachelor or Masters Degree in a highly quan...  \n",
       "3  [Join a small team creating a proprietary NLU ...  \n",
       "4                                                 []  "
      ]
     },
     "execution_count": 28,
     "metadata": {},
     "output_type": "execute_result"
    }
   ],
   "source": [
    "df.head()"
   ]
  },
  {
   "cell_type": "code",
   "execution_count": 30,
   "metadata": {},
   "outputs": [
    {
     "data": {
      "text/plain": [
       "(1337, 3)"
      ]
     },
     "execution_count": 30,
     "metadata": {},
     "output_type": "execute_result"
    }
   ],
   "source": [
    "df.shape"
   ]
  },
  {
   "cell_type": "markdown",
   "metadata": {},
   "source": [
    "### Step 3: Dedupe rows and save the dataframe for later"
   ]
  },
  {
   "cell_type": "code",
   "execution_count": 32,
   "metadata": {},
   "outputs": [],
   "source": [
    "# Convert lists in the bullets column to tuples\n",
    "df['bullets'] = df['bullets'].apply(tuple, 1)"
   ]
  },
  {
   "cell_type": "code",
   "execution_count": 35,
   "metadata": {},
   "outputs": [
    {
     "data": {
      "text/plain": [
       "(1328, 3)"
      ]
     },
     "execution_count": 35,
     "metadata": {},
     "output_type": "execute_result"
    }
   ],
   "source": [
    "df.drop_duplicates(inplace=True)\n",
    "df.shape"
   ]
  },
  {
   "cell_type": "code",
   "execution_count": 36,
   "metadata": {},
   "outputs": [],
   "source": [
    "# Save DataFrame to disk\n",
    "df.to_pickle('step1_df.pk')"
   ]
  }
 ],
 "metadata": {
  "kernelspec": {
   "display_name": "Python 3",
   "language": "python",
   "name": "python3"
  },
  "language_info": {
   "codemirror_mode": {
    "name": "ipython",
    "version": 3
   },
   "file_extension": ".py",
   "mimetype": "text/x-python",
   "name": "python",
   "nbconvert_exporter": "python",
   "pygments_lexer": "ipython3",
   "version": "3.7.4"
  }
 },
 "nbformat": 4,
 "nbformat_minor": 2
}
